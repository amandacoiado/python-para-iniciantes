{
  "cells": [
    {
      "cell_type": "markdown",
      "id": "8c79a30b",
      "metadata": {
        "id": "8c79a30b"
      },
      "source": [
        "# Script x Notebook\n",
        "\n",
        "Um **script** é um arquivo de texto que contém uma **sequência de instruções (código)** que podem ser executadas por um interpretador, como o Python. Ele é usado para automatizar tarefas, resolver problemas, executar cálculos, processar dados, entre muitas outras coisas.\n",
        "Os scripts de python tem a extensão .py\n",
        "\n",
        "-- exemplo1.py\n",
        "\n",
        "\n",
        "O **Notebook de Python**, ou caderno, é como se fosse o **rascunho** no qual construímos e aperfeiçoamos o código até chegarmos ao script final. Os nodetebooks de Python têm a extensão .ipynb\n",
        "\n",
        "-- exemplo1.ipynb\n",
        "\n",
        "Um script de código é escrito para executar numa ordem preestabelecida, porém durante a construção desse script, precisamos de flexibilidade para refazer determinados pontos do código, alterar a ordem das execuções e testar diversas abordagens.\n",
        "\n",
        "O notebook do Python foi desenvolvido para **facilitar essa construção**, de forma a permitir ao desenvolvedor **recursos** tais como:\n",
        "\n",
        "- executar trechos de código de forma independente;\n",
        "- alterar a ordem das células de código;\n",
        "- exibir em tela os valores resultantes dos comandos para validação dos cálculos e transformações antes de efetivamente aplicar a alteração nas variáveis;\n",
        "- consultar o valor das variáveis em tela;\n",
        "- entre outros\n",
        "\n",
        "Porém nunca devemos perder de vista que o código final deve obedecer a ordem estabelecida no código.\n",
        "\n",
        "É essa ordem que determina a criação de variáveis antes de sua utilização, a persistência dos tratamentos nas variáveis, e os devidos tratamentos dos valores armazenados, de modo a evitar erros de execução ou inconsistências nos dados.\n",
        "\n",
        "Por isso, alguns **cuidados** são importantes para manter a integridade do seu script antes de dar o trabalho por encerrado:\n",
        "\n",
        "- limpar a memória de execução por meio da reinicialização do kernel e reexecutar o código do início ao fim, para checar se há necessidade de adequação da ordem de execução;\n",
        "- validar o valor final das variáveis e, se necessário, refazer os passos para identificar os pontos de erro;\n",
        "- tratar erros de forma consciente, considerando o conteúdo do seu notebook como um todo, e não apenas o trecho que apresentou o erro.\n",
        "\n",
        "Vamos a um exemplo para ilustrar essa ordem de execução."
      ]
    },
    {
      "cell_type": "code",
      "execution_count": 1,
      "id": "bad1aa24",
      "metadata": {
        "colab": {
          "base_uri": "https://localhost:8080/"
        },
        "id": "bad1aa24",
        "outputId": "7d4301f7-c2ae-4b23-9c6a-a3ae9b2bf2a0"
      },
      "outputs": [
        {
          "output_type": "stream",
          "name": "stdout",
          "text": [
            "O tipo da variável ordem_execucao é:  <class 'list'>\n",
            "[1]\n"
          ]
        }
      ],
      "source": [
        "ordem_execucao = []\n",
        "print('O tipo da variável ordem_execucao é: ',type(ordem_execucao))\n",
        "numero_celula = 1\n",
        "ordem_execucao.append(numero_celula)\n",
        "print(ordem_execucao)"
      ]
    },
    {
      "cell_type": "code",
      "execution_count": 2,
      "id": "66eec44c",
      "metadata": {
        "colab": {
          "base_uri": "https://localhost:8080/"
        },
        "id": "66eec44c",
        "outputId": "8e225579-362a-4e70-8744-0b5f55772e2f"
      },
      "outputs": [
        {
          "output_type": "stream",
          "name": "stdout",
          "text": [
            "[1, 3]\n"
          ]
        }
      ],
      "source": [
        "numero_celula = 3\n",
        "ordem_execucao.append(numero_celula)\n",
        "print(ordem_execucao)"
      ]
    },
    {
      "cell_type": "code",
      "execution_count": 3,
      "id": "8a49607c",
      "metadata": {
        "colab": {
          "base_uri": "https://localhost:8080/"
        },
        "id": "8a49607c",
        "outputId": "6db3fe1e-6973-42f0-8ccd-eebc4bbeb9b1"
      },
      "outputs": [
        {
          "output_type": "stream",
          "name": "stdout",
          "text": [
            "[1, 3, 2]\n"
          ]
        }
      ],
      "source": [
        "numero_celula = 2\n",
        "ordem_execucao.append(numero_celula)\n",
        "print(ordem_execucao)"
      ]
    },
    {
      "cell_type": "code",
      "execution_count": 4,
      "id": "ce64cbc8",
      "metadata": {
        "colab": {
          "base_uri": "https://localhost:8080/"
        },
        "id": "ce64cbc8",
        "outputId": "d9b13c1b-a1e1-4afb-f376-a975b0f8a357"
      },
      "outputs": [
        {
          "output_type": "stream",
          "name": "stdout",
          "text": [
            "[1, 3, 2, 6]\n"
          ]
        }
      ],
      "source": [
        "numero_celula = 6\n",
        "ordem_execucao.append(numero_celula)\n",
        "print(ordem_execucao)"
      ]
    },
    {
      "cell_type": "code",
      "execution_count": 5,
      "id": "97de3846",
      "metadata": {
        "colab": {
          "base_uri": "https://localhost:8080/"
        },
        "id": "97de3846",
        "outputId": "d90d9060-ea1e-4279-c744-b29a84b3b5fe"
      },
      "outputs": [
        {
          "output_type": "stream",
          "name": "stdout",
          "text": [
            "[1, 3, 2, 6, 4]\n"
          ]
        }
      ],
      "source": [
        "numero_celula = 4\n",
        "ordem_execucao.append(numero_celula)\n",
        "print(ordem_execucao)"
      ]
    },
    {
      "cell_type": "code",
      "execution_count": 6,
      "id": "b62d81d4",
      "metadata": {
        "colab": {
          "base_uri": "https://localhost:8080/"
        },
        "id": "b62d81d4",
        "outputId": "fdcc25ff-b7c1-4c0a-a4b2-a2e30d1210af"
      },
      "outputs": [
        {
          "output_type": "stream",
          "name": "stdout",
          "text": [
            "[1, 3, 2, 6, 4, 5]\n"
          ]
        }
      ],
      "source": [
        "numero_celula = 5\n",
        "ordem_execucao.append(numero_celula)\n",
        "print(ordem_execucao)"
      ]
    },
    {
      "cell_type": "code",
      "execution_count": 7,
      "id": "24bc5d82",
      "metadata": {
        "colab": {
          "base_uri": "https://localhost:8080/"
        },
        "id": "24bc5d82",
        "outputId": "c2b46ef3-21a8-4e86-f1b7-8bef6ec9e7fa"
      },
      "outputs": [
        {
          "output_type": "stream",
          "name": "stdout",
          "text": [
            "[1, 3, 2, 6, 4, 5, 7]\n"
          ]
        }
      ],
      "source": [
        "numero_celula = 7\n",
        "ordem_execucao.append(numero_celula)\n",
        "print(ordem_execucao)"
      ]
    },
    {
      "cell_type": "code",
      "execution_count": 8,
      "id": "6836896b",
      "metadata": {
        "colab": {
          "base_uri": "https://localhost:8080/"
        },
        "id": "6836896b",
        "outputId": "7a31326e-850d-445a-8cb8-54f853e0f1c7"
      },
      "outputs": [
        {
          "output_type": "stream",
          "name": "stdout",
          "text": [
            "[1, 3, 2, 6, 4, 5, 7, 8]\n"
          ]
        }
      ],
      "source": [
        "numero_celula = 8\n",
        "ordem_execucao.append(numero_celula)\n",
        "print(ordem_execucao)"
      ]
    },
    {
      "cell_type": "code",
      "execution_count": 9,
      "id": "eb300821",
      "metadata": {
        "colab": {
          "base_uri": "https://localhost:8080/"
        },
        "id": "eb300821",
        "outputId": "2b5be010-0a73-4092-9089-b9b577e71e72"
      },
      "outputs": [
        {
          "output_type": "stream",
          "name": "stdout",
          "text": [
            "[1, 3, 2, 6, 4, 5, 7, 8, 9]\n"
          ]
        }
      ],
      "source": [
        "numero_celula = 9\n",
        "ordem_execucao.append(numero_celula)\n",
        "print(ordem_execucao)"
      ]
    },
    {
      "cell_type": "code",
      "execution_count": 10,
      "id": "eea73dd2",
      "metadata": {
        "colab": {
          "base_uri": "https://localhost:8080/"
        },
        "id": "eea73dd2",
        "outputId": "c1cd96f7-f2e9-48c2-bfee-629622ad82da"
      },
      "outputs": [
        {
          "output_type": "stream",
          "name": "stdout",
          "text": [
            "[1, 3, 2, 6, 4, 5, 7, 8, 9, 10]\n"
          ]
        }
      ],
      "source": [
        "numero_celula = 10\n",
        "ordem_execucao.append(numero_celula)\n",
        "print(ordem_execucao)"
      ]
    },
    {
      "cell_type": "code",
      "source": [],
      "metadata": {
        "id": "_-eB2QyMjWv4"
      },
      "id": "_-eB2QyMjWv4",
      "execution_count": 10,
      "outputs": []
    }
  ],
  "metadata": {
    "kernelspec": {
      "display_name": "Python 3",
      "language": "python",
      "name": "python3"
    },
    "language_info": {
      "codemirror_mode": {
        "name": "ipython",
        "version": 3
      },
      "file_extension": ".py",
      "mimetype": "text/x-python",
      "name": "python",
      "nbconvert_exporter": "python",
      "pygments_lexer": "ipython3",
      "version": "3.13.4"
    },
    "colab": {
      "provenance": []
    }
  },
  "nbformat": 4,
  "nbformat_minor": 5
}