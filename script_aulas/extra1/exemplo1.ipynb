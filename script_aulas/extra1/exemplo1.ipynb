{
 "cells": [
  {
   "cell_type": "markdown",
   "id": "8c79a30b",
   "metadata": {},
   "source": [
    "# Script x Notebook\n",
    "\n",
    "Um **script** é um arquivo de texto que contém uma **sequência de instruções (código)** que podem ser executadas por um interpretador, como o Python. Ele é usado para automatizar tarefas, resolver problemas, executar cálculos, processar dados, entre muitas outras coisas.\n",
    "Os scripts de python tem a extensão .py\n",
    "\n",
    "-- exemplo1.py\n",
    "\n",
    "\n",
    "O **Notebook de Python**, ou caderno, é como se fosse o **rascunho** no qual construímos e aperfeiçoamos o código até chegarmos ao script final. Os nodetebooks de Python têm a extensão .ipynb\n",
    "\n",
    "-- exemplo1.ipynb\n",
    "\n",
    "Um script de código é escrito para executar numa ordem preestabelecida, porém durante a construção desse script, precisamos de flexibilidade para refazer determinados pontos do código, alterar a ordem das execuções e testar diversas abordagens.\n",
    "\n",
    "O notebook do Python foi desenvolvido para **facilitar essa construção**, de forma a permitir ao desenvolvedor **recursos** tais como:\n",
    "\n",
    "- executar trechos de código de forma independente;\n",
    "- alterar a ordem das células de código;\n",
    "- exibir em tela os valores resultantes dos comandos para validação dos cálculos e transformações antes de efetivamente aplicar a alteração nas variáveis;\n",
    "- consultar o valor das variáveis em tela;\n",
    "- entre outros\n",
    "\n",
    "Porém nunca devemos perder de vista que o código final deve obedecer a ordem estabelecida no código.\n",
    "\n",
    "É essa ordem que determina a criação de variáveis antes de sua utilização, a persistência dos tratamentos nas variáveis, e os devidos tratamentos dos valores armazenados, de modo a evitar erros de execução ou inconsistências nos dados.\n",
    "\n",
    "Por isso, alguns **cuidados** são importantes para manter a integridade do seu script antes de dar o trabalho por encerrado:\n",
    "\n",
    "- limpar a memória de execução por meio da reinicialização do kernel e reexecutar o código do início ao fim, para checar se há necessidade de adequação da ordem de execução;\n",
    "- validar o valor final das variáveis e, se necessário, refazer os passos para identificar os pontos de erro;\n",
    "- tratar erros de forma consciente, considerando o conteúdo do seu notebook como um todo, e não apenas o trecho que apresentou o erro.\n",
    "\n",
    "Vamos a um exemplo para ilustrar essa ordem de execução."
   ]
  },
  {
   "cell_type": "code",
   "execution_count": 12,
   "id": "bad1aa24",
   "metadata": {},
   "outputs": [],
   "source": [
    "ordem_execucao = []\n",
    "#print('O tipo da variável ordem_execucao é: ',type(ordem_execucao))\n",
    "numero_celula = 1\n",
    "ordem_execucao.append(numero_celula)"
   ]
  },
  {
   "cell_type": "code",
   "execution_count": null,
   "id": "8a49607c",
   "metadata": {},
   "outputs": [
    {
     "name": "stdout",
     "output_type": "stream",
     "text": [
      "[2]\n"
     ]
    }
   ],
   "source": [
    "numero_celula = 2\n",
    "ordem_execucao.append(numero_celula)\n",
    "print(ordem_execucao)"
   ]
  },
  {
   "cell_type": "code",
   "execution_count": null,
   "id": "66eec44c",
   "metadata": {},
   "outputs": [
    {
     "name": "stdout",
     "output_type": "stream",
     "text": [
      "[2, 3]\n"
     ]
    }
   ],
   "source": [
    "numero_celula = 3\n",
    "ordem_execucao.append(numero_celula)\n",
    "print(ordem_execucao)"
   ]
  },
  {
   "cell_type": "code",
   "execution_count": null,
   "id": "97de3846",
   "metadata": {},
   "outputs": [
    {
     "name": "stdout",
     "output_type": "stream",
     "text": [
      "[2, 3, 4]\n"
     ]
    }
   ],
   "source": [
    "numero_celula = 4\n",
    "ordem_execucao.append(numero_celula)\n",
    "print(ordem_execucao)"
   ]
  },
  {
   "cell_type": "code",
   "execution_count": null,
   "id": "b62d81d4",
   "metadata": {},
   "outputs": [
    {
     "name": "stdout",
     "output_type": "stream",
     "text": [
      "[2, 3, 4, 5]\n"
     ]
    }
   ],
   "source": [
    "numero_celula = 5\n",
    "ordem_execucao.append(numero_celula)\n",
    "print(ordem_execucao)"
   ]
  },
  {
   "cell_type": "code",
   "execution_count": null,
   "id": "ce64cbc8",
   "metadata": {},
   "outputs": [
    {
     "name": "stdout",
     "output_type": "stream",
     "text": [
      "[2, 3, 4, 5, 6]\n"
     ]
    }
   ],
   "source": [
    "numero_celula = 6\n",
    "ordem_execucao.append(numero_celula)\n",
    "print(ordem_execucao)"
   ]
  },
  {
   "cell_type": "code",
   "execution_count": null,
   "id": "24bc5d82",
   "metadata": {},
   "outputs": [
    {
     "name": "stdout",
     "output_type": "stream",
     "text": [
      "[2, 3, 4, 5, 6, 7]\n"
     ]
    }
   ],
   "source": [
    "numero_celula = 7\n",
    "ordem_execucao.append(numero_celula)\n",
    "print(ordem_execucao)"
   ]
  },
  {
   "cell_type": "code",
   "execution_count": null,
   "id": "6836896b",
   "metadata": {},
   "outputs": [
    {
     "name": "stdout",
     "output_type": "stream",
     "text": [
      "[2, 3, 4, 5, 6, 7, 8]\n"
     ]
    }
   ],
   "source": [
    "numero_celula = 8\n",
    "ordem_execucao.append(numero_celula)\n",
    "print(ordem_execucao)"
   ]
  },
  {
   "cell_type": "code",
   "execution_count": null,
   "id": "eb300821",
   "metadata": {},
   "outputs": [
    {
     "name": "stdout",
     "output_type": "stream",
     "text": [
      "[2, 3, 4, 5, 6, 7, 8, 9]\n"
     ]
    }
   ],
   "source": [
    "numero_celula = 9\n",
    "ordem_execucao.append(numero_celula)\n",
    "print(ordem_execucao)"
   ]
  },
  {
   "cell_type": "code",
   "execution_count": null,
   "id": "eea73dd2",
   "metadata": {},
   "outputs": [
    {
     "name": "stdout",
     "output_type": "stream",
     "text": [
      "[2, 3, 4, 5, 6, 7, 8, 9, 10]\n"
     ]
    }
   ],
   "source": [
    "numero_celula = 10\n",
    "ordem_execucao.append(numero_celula)\n",
    "print(ordem_execucao)"
   ]
  },
  {
   "cell_type": "code",
   "execution_count": null,
   "id": "17565b2c",
   "metadata": {},
   "outputs": [],
   "source": []
  }
 ],
 "metadata": {
  "kernelspec": {
   "display_name": "Python 3",
   "language": "python",
   "name": "python3"
  },
  "language_info": {
   "codemirror_mode": {
    "name": "ipython",
    "version": 3
   },
   "file_extension": ".py",
   "mimetype": "text/x-python",
   "name": "python",
   "nbconvert_exporter": "python",
   "pygments_lexer": "ipython3",
   "version": "3.13.4"
  }
 },
 "nbformat": 4,
 "nbformat_minor": 5
}
