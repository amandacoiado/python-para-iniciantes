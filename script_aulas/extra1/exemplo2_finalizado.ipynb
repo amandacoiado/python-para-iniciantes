{
  "cells": [
    {
      "cell_type": "markdown",
      "id": "063e35ab",
      "metadata": {
        "id": "063e35ab"
      },
      "source": [
        "# Comandos visíveis e invisíveis\n",
        "\n",
        "Nem tudo o que programamos precisa ser exibido ao usuário. Alguns comandos são feitos para serem executados **sem que o usuário sequer perceba**.\n",
        "\n",
        "Por exemplo, ao fazermos um cadastro num site, nós preenchemos uma série de informações e depois clicamos em um botão para finalizar o cadastro. Ao clicar no botão, o aplicativo vai executar uma série de instruções programadas para validar de todos os dados obrigatórios foram inseridos, se eles obedecem a determinadas regras, fazer a conexão com o banco de dados que vai armazenar essas informações, inserir os dados nas tabelas de destino, tudo isso internamente. Ao final desse processo, o aplicativo devolve uma única mensagem ao usuário dizendo se o cadastro teve sucesso ou não.\n",
        "\n",
        "Além disso, **nem todos os comandos que fazemos** ao longo do desenvolvimento **são necessários** para o funcionamento geral do script.\n",
        "\n",
        "Por exemplo, em uma prova de concurso, nós temos o caderno de questões, que contem o enunciado das questões, as folhas de rascunho que podem ser utilizados para fazer cálculos, e o gabarito. O notebook Python é como se fosse o caderno de questões e as folhas de rascunho, enquanto o que é exibido ao usuário é apenas o gabarito, ou seja, as suas respostas finais, que serão utilizadas para a correção.\n",
        "\n",
        "Da mesma forma, podemos testar várias abordagens até acertar, ou mesmo após acertar, voltar atrás no código e refazer alguns trechos para garantir uma execução mais rápida e eficaz. Tudo isso não deve interferir no resultado final ao usuário, que são aqueles comandos essenciais para o bom funcionamento do script como um todo.\n",
        "\n",
        "\n",
        "## Persistência dos comandos\n",
        "\n",
        "Dizemos que um comando é persistente quando o método ou função utilizado **altera a variável original**, ou seja, ao executarmos, a variável muda seu valor inicial para o resultado final daquele comando.\n",
        "\n",
        "Já em outros casos, é exibida uma **prévia** na tela, mas a variável **permanece inalterada**, a menos que você atribua explicitamente o novo valor a ela."
      ]
    },
    {
      "cell_type": "code",
      "execution_count": null,
      "id": "2bb7afce",
      "metadata": {
        "id": "2bb7afce"
      },
      "outputs": [],
      "source": [
        "#definindo o valor inicial\n",
        "resultado = int(input(\"Digite o valor inicial: \"))"
      ]
    },
    {
      "cell_type": "code",
      "execution_count": null,
      "id": "b6d797c9",
      "metadata": {
        "id": "b6d797c9"
      },
      "outputs": [],
      "source": [
        "#soma\n",
        "resultado = resultado + int(input(\"Digite o valor a ser somado: \"))\n"
      ]
    },
    {
      "cell_type": "code",
      "execution_count": null,
      "id": "ab565954",
      "metadata": {
        "id": "ab565954"
      },
      "outputs": [],
      "source": [
        "#subtração\n",
        "resultado = resultado - int(input(\"Digite o valor a ser subtraído: \"))"
      ]
    },
    {
      "cell_type": "code",
      "execution_count": null,
      "id": "7ea5ca69",
      "metadata": {
        "id": "7ea5ca69"
      },
      "outputs": [],
      "source": [
        "#multiplicação\n",
        "resultado = resultado * int(input(\"Digite o valor do multiplicador: \"))"
      ]
    },
    {
      "cell_type": "code",
      "execution_count": null,
      "id": "f294309d",
      "metadata": {
        "id": "f294309d"
      },
      "outputs": [],
      "source": [
        "#divisão\n",
        "resultado = resultado / int(input(\"Digite o valor do divisor: \"))"
      ]
    },
    {
      "cell_type": "code",
      "execution_count": null,
      "id": "fd9a73d2",
      "metadata": {
        "id": "fd9a73d2"
      },
      "outputs": [],
      "source": [
        "#arredondar\n",
        "resultado = round(resultado, 2)"
      ]
    },
    {
      "cell_type": "code",
      "execution_count": null,
      "id": "2484c2b0",
      "metadata": {
        "id": "2484c2b0"
      },
      "outputs": [],
      "source": [
        "#exibir o resultado para o usuário\n",
        "print('Resultado final: ', resultado)"
      ]
    },
    {
      "cell_type": "code",
      "source": [],
      "metadata": {
        "id": "ynBHOVZZ9_OX"
      },
      "id": "ynBHOVZZ9_OX",
      "execution_count": null,
      "outputs": []
    }
  ],
  "metadata": {
    "kernelspec": {
      "display_name": "Python 3",
      "language": "python",
      "name": "python3"
    },
    "language_info": {
      "codemirror_mode": {
        "name": "ipython",
        "version": 3
      },
      "file_extension": ".py",
      "mimetype": "text/x-python",
      "name": "python",
      "nbconvert_exporter": "python",
      "pygments_lexer": "ipython3",
      "version": "3.13.4"
    },
    "colab": {
      "provenance": []
    }
  },
  "nbformat": 4,
  "nbformat_minor": 5
}