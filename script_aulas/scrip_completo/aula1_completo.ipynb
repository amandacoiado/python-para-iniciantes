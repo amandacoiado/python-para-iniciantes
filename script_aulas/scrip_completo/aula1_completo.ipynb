{
  "cells": [
    {
      "cell_type": "markdown",
      "id": "44b8e216",
      "metadata": {
        "id": "44b8e216"
      },
      "source": [
        "# **Python para iniciantes**\n",
        "\n",
        "## **Aula 1 - Tipos de objetos - Parte 1**\n",
        "\n",
        "por Amanda Ramos Coiado\n",
        "\n",
        "18/06/2025"
      ]
    },
    {
      "cell_type": "markdown",
      "id": "1de16ace-9527-4843-a9b9-cfb8e89b4ce3",
      "metadata": {
        "id": "1de16ace-9527-4843-a9b9-cfb8e89b4ce3"
      },
      "source": [
        "## Documentação:\n",
        "\n",
        "https://docs.python.org/pt-br/3/tutorial/ (em português)\n",
        "\n",
        "https://www.w3schools.com/python/default.asp (em inglês)"
      ]
    },
    {
      "cell_type": "markdown",
      "id": "a5a7897e",
      "metadata": {
        "id": "a5a7897e"
      },
      "source": [
        "# O que são objetos em Python?\n",
        "\n",
        "Python é uma linguagem de programação orientada a objetos, o que significa que ela permite criação e utilização de objetos via código. Objetos são como caixas ou gavetas que podem guardar informações. Eles são criados a partir de modelos chamados classes, sendo que cada classe tem características próprias e atendem a determinados objetivos.\n",
        "\n",
        "Usar objetos ajuda a organizar o código e reutilizar partes dele, tornando o programa mais fácil de entender e modificar.\n",
        "\n",
        "Em Python, variáveis são referências a objetos. Isso significa que, quando você cria uma variável e atribui um valor a ela, você está, na verdade, criando um objeto e a variável passa a referenciar esse objeto, como se fosse a identificação ou a etiqueta daquela \"gaveta\", para que você possa acessá-la, utilizar e atualizar seu conteúdo em vários momentos do código.\n",
        "\n",
        "Em Python, você cria variáveis simplesmente dando um nome a um valor. Por exemplo, quando você faz:\n",
        "\n",
        "    x = 10\n",
        "\n",
        "Você está criando um objeto do tipo inteiro com o valor 10 e a variável x está referenciando esse objeto. Em Python, tudo é um objeto, incluindo tipos primitivos como inteiros, strings e listas. Portanto, variáveis são uma maneira de acessar esses objetos.\n",
        "\n",
        "Para saber mais sobre variáveis, assista ao vídeo [Introdução à programação: variáveis](https://www.youtube.com/watch?v=c4sIJergG2c)."
      ]
    },
    {
      "cell_type": "markdown",
      "id": "f66f7370",
      "metadata": {
        "id": "f66f7370"
      },
      "source": [
        "# Tipos de objetos em Python"
      ]
    },
    {
      "cell_type": "markdown",
      "id": "ffc4503f",
      "metadata": {
        "id": "ffc4503f"
      },
      "source": [
        "Em Python, existem vários tipos de objetos que podem ser usados para armazenar e manipular dados. Aqui estão alguns dos principais tipos de objetos em Python:\n",
        "\n",
        "1) Números:\n",
        "    - inteiro\n",
        "    - ponto flutuante\n",
        "\n",
        "2) Sequências:\n",
        "    - string\n",
        "    - lista\n",
        "    - tupla\n",
        "\n",
        "3) Mapeamentos:\n",
        "    - dicionários\n",
        "\n",
        "4) Booleanos (bool): verdadeiro ou falso\n",
        "\n",
        "5) None: de valor ou um valor nulo."
      ]
    },
    {
      "cell_type": "markdown",
      "id": "8c0e6dd2",
      "metadata": {
        "id": "8c0e6dd2"
      },
      "source": [
        "## Números\n",
        "\n",
        "Os objetos do tipo numérico em python representam quantidades e métricas e permitem realizar operações matemáticas diversas. Desde operações básicas (soma, subtração, multiplicação e divisão) até análises estatísticas e modelos matemáticos.\n",
        "\n",
        "Além disso, os números podem ser utilizados em estruturas lógicas condicionais (se/então/senão) e de controle como os loops, tornando-se essenciais na programação."
      ]
    },
    {
      "cell_type": "markdown",
      "id": "fc93173b",
      "metadata": {
        "id": "fc93173b"
      },
      "source": [
        "## Números inteiros\n",
        "\n",
        "Formato: **int**\n",
        "\n",
        "Em Python, o tipo de dado **int** representa números inteiros, ou seja, valores sem casas decimais.\n",
        "\n",
        "Esse formato inclui tanto números positivos quanto negativos, como 1, 2 e -5.\n",
        "\n",
        "Exemplos de valores inteiros:\n",
        "- 1\n",
        "- 2\n",
        "- -5"
      ]
    },
    {
      "cell_type": "code",
      "execution_count": null,
      "id": "7ae60df2",
      "metadata": {
        "id": "7ae60df2",
        "trusted": true
      },
      "outputs": [],
      "source": [
        "# definindo uma variável numérica chamada num1\n",
        "num1 = 5"
      ]
    },
    {
      "cell_type": "code",
      "execution_count": null,
      "id": "xQe_vXhsuEcv",
      "metadata": {
        "colab": {
          "base_uri": "https://localhost:8080/"
        },
        "id": "xQe_vXhsuEcv",
        "outputId": "f4d4b99c-3d7d-48c2-91de-c0514c3c4cb3"
      },
      "outputs": [],
      "source": [
        "num1"
      ]
    },
    {
      "cell_type": "code",
      "execution_count": null,
      "id": "375b0762",
      "metadata": {
        "colab": {
          "base_uri": "https://localhost:8080/"
        },
        "id": "375b0762",
        "outputId": "932c5095-cade-406e-9a72-cc593e475647",
        "trusted": true
      },
      "outputs": [],
      "source": [
        "# consultando o tipo: type()\n",
        "type(num1)"
      ]
    },
    {
      "cell_type": "code",
      "execution_count": null,
      "id": "5eaf3ab6",
      "metadata": {
        "id": "5eaf3ab6"
      },
      "outputs": [],
      "source": [
        "# posso usar números negativos também\n",
        "num2 = -7"
      ]
    },
    {
      "cell_type": "code",
      "execution_count": null,
      "id": "fe94365c",
      "metadata": {
        "colab": {
          "base_uri": "https://localhost:8080/"
        },
        "id": "fe94365c",
        "outputId": "42b758bd-d911-4ae4-b77a-bc91710ac6cc"
      },
      "outputs": [],
      "source": [
        "# podemos fazer cálculos com variáveis numéricas\n",
        "5 - 7"
      ]
    },
    {
      "cell_type": "code",
      "execution_count": null,
      "id": "862fea1b",
      "metadata": {
        "colab": {
          "base_uri": "https://localhost:8080/"
        },
        "id": "862fea1b",
        "outputId": "ae38d6eb-57ef-4c06-b6cc-14b8b2d474fc"
      },
      "outputs": [],
      "source": [
        "# substituindo pelas variáveis\n",
        "num1 - num2\n",
        "\n",
        "# 5 - (-7)"
      ]
    },
    {
      "cell_type": "code",
      "execution_count": null,
      "id": "044ea08e",
      "metadata": {
        "colab": {
          "base_uri": "https://localhost:8080/"
        },
        "id": "044ea08e",
        "outputId": "9dd831eb-5982-433f-fc79-9c5f43256cb9"
      },
      "outputs": [],
      "source": [
        "# corrigindo: 5 + (-7)\n",
        "num1 + num2"
      ]
    },
    {
      "cell_type": "markdown",
      "id": "9c02135b",
      "metadata": {
        "id": "9c02135b"
      },
      "source": [
        "## Números de ponto flutuante\n",
        "\n",
        "Formato: **float**\n",
        "\n",
        "O tipo float em Python representa números de ponto flutuante, ou seja, valores que possuem casas decimais, como 3.14, 2.0 e -1.5.\n",
        "\n",
        "Um detalhe importante é que o separador de casas decimais em python é o ponto (.). Não se usa virgula em números, pois a vírgula tem outra função em python, que veremos mais a diante.\n",
        "\n",
        "Exemplos de valores:\n",
        "- 3.14\n",
        "- 2.0\n",
        "- -1.5"
      ]
    },
    {
      "cell_type": "code",
      "execution_count": null,
      "id": "b12f8224",
      "metadata": {
        "id": "b12f8224",
        "trusted": true
      },
      "outputs": [],
      "source": [
        "# definindo variável float (com casas decimais) chamada num3\n",
        "num3 = 1.5"
      ]
    },
    {
      "cell_type": "code",
      "execution_count": null,
      "id": "bf4c9f1f",
      "metadata": {
        "colab": {
          "base_uri": "https://localhost:8080/"
        },
        "id": "bf4c9f1f",
        "outputId": "3d714393-a393-456b-ee61-34e1ad5fcc40",
        "trusted": true
      },
      "outputs": [],
      "source": [
        "# consultando o tipo: type()\n",
        "type(num3)"
      ]
    },
    {
      "cell_type": "code",
      "execution_count": null,
      "id": "04464fc1",
      "metadata": {
        "colab": {
          "base_uri": "https://localhost:8080/"
        },
        "id": "04464fc1",
        "outputId": "ba59e1e8-0919-44ab-9c1b-2b64b17592c0",
        "trusted": true
      },
      "outputs": [],
      "source": [
        "# realizando operações: soma\n",
        "num1 + num3"
      ]
    },
    {
      "cell_type": "code",
      "execution_count": null,
      "id": "09c5479f",
      "metadata": {
        "colab": {
          "base_uri": "https://localhost:8080/"
        },
        "id": "09c5479f",
        "outputId": "2c127f14-595d-4941-cb7f-e3b2615c67e7",
        "trusted": true
      },
      "outputs": [],
      "source": [
        "# realizando operações: subtração\n",
        "num1 - num3"
      ]
    },
    {
      "cell_type": "code",
      "execution_count": null,
      "id": "68d5f636",
      "metadata": {
        "colab": {
          "base_uri": "https://localhost:8080/"
        },
        "id": "68d5f636",
        "outputId": "c7adc81b-e271-460e-880c-360610918be1",
        "trusted": true
      },
      "outputs": [],
      "source": [
        "# realizando operações: multiplicação\n",
        "num1 * num3"
      ]
    },
    {
      "cell_type": "code",
      "execution_count": null,
      "id": "180c2cf2",
      "metadata": {
        "colab": {
          "base_uri": "https://localhost:8080/"
        },
        "id": "180c2cf2",
        "outputId": "6d2e618c-d416-49a2-b674-b5b2326c33a4",
        "trusted": true
      },
      "outputs": [],
      "source": [
        "# realizando operações: divisão\n",
        "num1 / num3"
      ]
    },
    {
      "cell_type": "code",
      "execution_count": null,
      "id": "3d02f5e8",
      "metadata": {
        "colab": {
          "base_uri": "https://localhost:8080/"
        },
        "id": "3d02f5e8",
        "outputId": "1b253f33-9609-49b0-b6b4-146f6851a618",
        "trusted": true
      },
      "outputs": [],
      "source": [
        "# arredondar para duas casas decimais: round(número, dígitos)\n",
        "round(num1 / num3, 2)"
      ]
    },
    {
      "cell_type": "code",
      "execution_count": null,
      "id": "a357ea72",
      "metadata": {
        "colab": {
          "base_uri": "https://localhost:8080/"
        },
        "id": "a357ea72",
        "outputId": "a708f22e-abab-4a01-c2ca-10955c501fa1",
        "trusted": true
      },
      "outputs": [],
      "source": [
        "# imprimir a resposta: print()\n",
        "print(num1 * num3)\n",
        "print(round(num1 / num3, 2))"
      ]
    },
    {
      "cell_type": "markdown",
      "id": "06b9a7c7",
      "metadata": {
        "id": "06b9a7c7"
      },
      "source": [
        "# Sequências\n",
        "\n",
        "Em Python, sequências são tipos de dados que armazenam uma coleção ordenada de itens. Esses itens podem ser de qualquer tipo, como números, strings ou textos, ou ainda outros objetos. As sequências permitem acessar e manipular os itens individuais usando índices.\n",
        "\n",
        "Existem vários tipos de sequências em Python, incluindo strings, listas, tuplas e dicionários.\n",
        "\n",
        "Esses tipos de sequências são fundamentais para a manipulação de dados em Python e oferecem uma variedade de métodos e operações para facilitar o trabalho com coleções de itens."
      ]
    },
    {
      "cell_type": "markdown",
      "id": "b5fb3db5",
      "metadata": {
        "id": "b5fb3db5"
      },
      "source": [
        "## Strings\n",
        "\n",
        "Formato: **str**\n",
        "\n",
        "Strings são sequências de caracteres, como:\n",
        "- \"Olá\"\n",
        "- \"mundo\"\n",
        "- \"Olá, mundo!\"\n",
        "\n",
        "Elas podem ser delimitadas por aspas simples 'a' ou duplas \"a\", desde que você utilize o mesmo formato para delimitar o início e o fim da sequência de caracteres.\n",
        "    \n",
        "    Exemplo:\n",
        "        texto1 = 'Se eu utilizei aspas simples para delimitar o início do texto, posso utilizar \"aspas duplas\" dentro do conteúdo da variável, pois o término somente será sinalizado por outra aspas simples'\n",
        "\n",
        "As strings também podem conter números e/ou caracteres especiais, porém tudo que estiver contido entre as aspas é considerado texto, ou seja, sem propriedades matemáticas ou de cálculos.\n",
        "\n",
        "As variáveis do tipo string são consideradas sequências em Python pois são tratadas como uma lista de caracteres com possibilidade de iteração."
      ]
    },
    {
      "cell_type": "code",
      "execution_count": null,
      "id": "ecebb466",
      "metadata": {
        "colab": {
          "base_uri": "https://localhost:8080/",
          "height": 36
        },
        "id": "ecebb466",
        "outputId": "77d13b41-ff5f-4b76-e9c0-7bfd33aa994b",
        "trusted": true
      },
      "outputs": [],
      "source": [
        "# definindo uma variável de texto chamada nome\n",
        "nome = 'Chapolim Colorado'\n",
        "nome"
      ]
    },
    {
      "cell_type": "code",
      "execution_count": null,
      "id": "d28be8c2",
      "metadata": {
        "colab": {
          "base_uri": "https://localhost:8080/"
        },
        "id": "d28be8c2",
        "outputId": "21a9cecd-5756-4e0a-c56a-bbc0419712ac",
        "trusted": true
      },
      "outputs": [],
      "source": [
        "# consultar tipo: type()\n",
        "type(nome)"
      ]
    },
    {
      "cell_type": "code",
      "execution_count": null,
      "id": "dd7f4054",
      "metadata": {
        "colab": {
          "base_uri": "https://localhost:8080/"
        },
        "id": "dd7f4054",
        "outputId": "160a0627-d46c-4d2c-dcfd-bef19235dcf1",
        "trusted": true
      },
      "outputs": [],
      "source": [
        "# consultar tamanho: len()\n",
        "len(nome)"
      ]
    },
    {
      "cell_type": "code",
      "execution_count": null,
      "id": "8c15a96d",
      "metadata": {
        "colab": {
          "base_uri": "https://localhost:8080/",
          "height": 36
        },
        "id": "8c15a96d",
        "outputId": "5dbf94eb-a57e-40c3-bc56-6fbaf005c2ed",
        "trusted": true
      },
      "outputs": [],
      "source": [
        "# iterando e fatiando a sequência de caracteres\n",
        "#primeiro caracter\n",
        "nome[0]"
      ]
    },
    {
      "cell_type": "code",
      "execution_count": null,
      "id": "71f138b8",
      "metadata": {
        "colab": {
          "base_uri": "https://localhost:8080/",
          "height": 36
        },
        "id": "71f138b8",
        "outputId": "1a9faa9c-0723-4314-e1c7-74dd89cccf26",
        "trusted": true
      },
      "outputs": [],
      "source": [
        "# primeiro ao 4º caracter\n",
        "nome[0:4]"
      ]
    },
    {
      "cell_type": "code",
      "execution_count": null,
      "id": "75c4faae",
      "metadata": {
        "colab": {
          "base_uri": "https://localhost:8080/",
          "height": 36
        },
        "id": "75c4faae",
        "outputId": "ac52dc1b-df23-4604-a6bf-5464178950a2",
        "trusted": true
      },
      "outputs": [],
      "source": [
        "# 5º caracter até o último\n",
        "nome[4:]"
      ]
    },
    {
      "cell_type": "code",
      "execution_count": null,
      "id": "fc94b672",
      "metadata": {
        "colab": {
          "base_uri": "https://localhost:8080/",
          "height": 36
        },
        "id": "fc94b672",
        "outputId": "7c8c9471-1da8-4c12-f8f5-e040c8efcf2e",
        "trusted": true
      },
      "outputs": [],
      "source": [
        "# último caracter\n",
        "nome[-1]"
      ]
    },
    {
      "cell_type": "code",
      "execution_count": null,
      "id": "79545430",
      "metadata": {
        "colab": {
          "base_uri": "https://localhost:8080/",
          "height": 36
        },
        "id": "79545430",
        "outputId": "6cb83010-1155-4f8f-dfd6-a2793c096237",
        "trusted": true
      },
      "outputs": [],
      "source": [
        "# dois últimos caracteres\n",
        "nome[-2:]"
      ]
    },
    {
      "cell_type": "code",
      "execution_count": null,
      "id": "8e5b2851",
      "metadata": {
        "colab": {
          "base_uri": "https://localhost:8080/"
        },
        "id": "8e5b2851",
        "outputId": "bd66603f-a52c-4cf1-a8eb-cb77b3c6b3bf",
        "trusted": true
      },
      "outputs": [],
      "source": [
        "# obter valores: input()\n",
        "# atribuir para uma variável chamada nome_completo\n",
        "nome_completo = input('Digite seu nome completo: ')"
      ]
    },
    {
      "cell_type": "code",
      "execution_count": null,
      "id": "c9a2da19",
      "metadata": {
        "colab": {
          "base_uri": "https://localhost:8080/",
          "height": 36
        },
        "id": "c9a2da19",
        "outputId": "17293cd0-f322-4917-df2f-9b45931e9416"
      },
      "outputs": [],
      "source": [
        "# 'chamar' a variável para exibir seu conteúdo\n",
        "nome_completo"
      ]
    },
    {
      "cell_type": "code",
      "execution_count": null,
      "id": "53390b21",
      "metadata": {
        "colab": {
          "base_uri": "https://localhost:8080/"
        },
        "id": "53390b21",
        "outputId": "392297b6-189a-4aba-d6aa-cc545bad4c66",
        "trusted": true
      },
      "outputs": [],
      "source": [
        "# retornar os dois primeiros e dois últimos caracteres\n",
        "print('Primeiros caracteres:', nome_completo[:2])\n",
        "print('Últimos caracteres:', nome_completo[-2:])"
      ]
    },
    {
      "cell_type": "code",
      "execution_count": null,
      "id": "ef1b9faa",
      "metadata": {
        "colab": {
          "base_uri": "https://localhost:8080/",
          "height": 36
        },
        "id": "ef1b9faa",
        "outputId": "6d0dba7f-428b-4baa-cf77-90cf3d943b72",
        "trusted": true
      },
      "outputs": [],
      "source": [
        "# tranformar todos os caracteres em minúsculos: método .lower()\n",
        "nome_completo.lower()"
      ]
    },
    {
      "cell_type": "code",
      "execution_count": null,
      "id": "ddb02ad6",
      "metadata": {
        "colab": {
          "base_uri": "https://localhost:8080/",
          "height": 36
        },
        "id": "ddb02ad6",
        "outputId": "0bf0afdd-0995-4b7d-8b2d-c3f32e0cd888",
        "trusted": true
      },
      "outputs": [],
      "source": [
        "# tranformar todos os caracteres em maiúsculos: método .upper()\n",
        "nome_completo.upper()"
      ]
    },
    {
      "cell_type": "markdown",
      "id": "0cf22b15",
      "metadata": {
        "id": "0cf22b15"
      },
      "source": [
        "## Combinando textos e números"
      ]
    },
    {
      "cell_type": "code",
      "execution_count": null,
      "id": "d2ffac62",
      "metadata": {
        "colab": {
          "base_uri": "https://localhost:8080/"
        },
        "id": "d2ffac62",
        "outputId": "739a125d-0fcf-40af-8876-17c1cf92483b",
        "trusted": true
      },
      "outputs": [],
      "source": [
        "# imprimir a resposta de uma operação com texto\n",
        "# exemplo 1: print(texto1, texto2, texto3,...)\n",
        "print('O resultado da soma é: ', num1 + num2)"
      ]
    },
    {
      "cell_type": "code",
      "execution_count": null,
      "id": "f042d344",
      "metadata": {
        "colab": {
          "base_uri": "https://localhost:8080/"
        },
        "id": "f042d344",
        "outputId": "e717edd1-8213-444f-b0b5-2f581ae19457",
        "trusted": true
      },
      "outputs": [],
      "source": [
        "# exemplo2: print(f' texto1 {} texto2 {} texto3 {}')\n",
        "print(f'O resultado da soma de {num1} mais {num2} = ', num1 + num2)"
      ]
    },
    {
      "cell_type": "markdown",
      "id": "b4e83be2",
      "metadata": {
        "id": "b4e83be2"
      },
      "source": [
        "## Boolean\n",
        "\n",
        "Formato: **bool**\n",
        "\n",
        "Valores booleanos, em Python, são um tipo de dado que representa um estado lógico verdadeiro ou falso. O tipo de dado booleano é denominado **bool** e possui dois valores possíveis:\n",
        "\n",
        "- **True** (verdadeiro)\n",
        "- **False** (falso).\n",
        "\n",
        "É possível obter valores booleanos por meio de operadores de comparação, como:\n",
        "\n",
        "- **==** (igual a)\n",
        "- **!=** (diferente de)\n",
        "- **>** (maior que)\n",
        "- **<** (menor que)\n",
        "- **>=** (maior ou igual a)\n",
        "- **<=** (menor ou igual a)"
      ]
    },
    {
      "cell_type": "code",
      "execution_count": null,
      "id": "46ebaf21",
      "metadata": {
        "id": "46ebaf21"
      },
      "outputs": [],
      "source": [
        "# definir variável booleana\n",
        "resposta = True"
      ]
    },
    {
      "cell_type": "code",
      "execution_count": null,
      "id": "b97e5b19",
      "metadata": {
        "colab": {
          "base_uri": "https://localhost:8080/"
        },
        "id": "b97e5b19",
        "outputId": "d6c01537-05ba-40f6-c816-41846b80b026"
      },
      "outputs": [],
      "source": [
        "# verificar o tipo da variável\n",
        "type(resposta)"
      ]
    },
    {
      "cell_type": "code",
      "execution_count": null,
      "id": "7b97a9f5",
      "metadata": {
        "id": "7b97a9f5",
        "trusted": true
      },
      "outputs": [],
      "source": [
        "# definir duas variáveis numéricas x e y\n",
        "x = 5\n",
        "y = 1"
      ]
    },
    {
      "cell_type": "code",
      "execution_count": null,
      "id": "377257c6",
      "metadata": {
        "colab": {
          "base_uri": "https://localhost:8080/"
        },
        "id": "377257c6",
        "outputId": "162c2758-fac6-4f85-df79-88425a330e2a",
        "trusted": true
      },
      "outputs": [],
      "source": [
        "# comparação: igual a\n",
        "x == y"
      ]
    },
    {
      "cell_type": "code",
      "execution_count": null,
      "id": "25feb3a0",
      "metadata": {
        "colab": {
          "base_uri": "https://localhost:8080/"
        },
        "id": "25feb3a0",
        "outputId": "380dc95e-100e-466e-9b5d-947bb8b2c708",
        "trusted": true
      },
      "outputs": [],
      "source": [
        "# comparação: diferente de\n",
        "x != y"
      ]
    },
    {
      "cell_type": "code",
      "execution_count": null,
      "id": "5e87f394",
      "metadata": {
        "colab": {
          "base_uri": "https://localhost:8080/"
        },
        "id": "5e87f394",
        "outputId": "41a8de98-d12f-40b3-9daf-a28498031217",
        "trusted": true
      },
      "outputs": [],
      "source": [
        "# comparação: maior que\n",
        "x > y"
      ]
    },
    {
      "cell_type": "code",
      "execution_count": null,
      "id": "7dbd77f7",
      "metadata": {
        "colab": {
          "base_uri": "https://localhost:8080/"
        },
        "id": "7dbd77f7",
        "outputId": "080435f6-4462-4e92-b493-7c1eb00e038e",
        "trusted": true
      },
      "outputs": [],
      "source": [
        "# comparação: menor que\n",
        "x < y"
      ]
    },
    {
      "cell_type": "code",
      "execution_count": null,
      "id": "e608b348",
      "metadata": {
        "colab": {
          "base_uri": "https://localhost:8080/"
        },
        "id": "e608b348",
        "outputId": "21a6f404-5b5d-4f34-9500-ab6c3800efe7",
        "trusted": true
      },
      "outputs": [],
      "source": [
        "# comparação: menor ou igual a\n",
        "y + 4 <= x"
      ]
    },
    {
      "cell_type": "markdown",
      "id": "93d0a9f5",
      "metadata": {
        "id": "93d0a9f5"
      },
      "source": [
        "## Ausência de valor\n",
        "\n",
        "Formato: **NoneType**\n",
        "\n",
        "O None representa a ausência de valor ou um valor nulo.\n",
        "\n",
        "Ele pode ser usado para garantirmos a existência de uma variável, ainda que ela não tenha um valor ainda, evitando erros durante a execução de funções, por exemplo."
      ]
    },
    {
      "cell_type": "code",
      "execution_count": null,
      "id": "89983690",
      "metadata": {
        "id": "89983690",
        "trusted": true
      },
      "outputs": [],
      "source": [
        "# definir uma variável do tipo NoneType\n",
        "valor = None"
      ]
    },
    {
      "cell_type": "code",
      "execution_count": null,
      "id": "2ae7cb44",
      "metadata": {
        "colab": {
          "base_uri": "https://localhost:8080/"
        },
        "id": "2ae7cb44",
        "outputId": "9d579e59-c1e5-4f70-9a07-fa7941870cb5",
        "trusted": true
      },
      "outputs": [],
      "source": [
        "# verificar o tipo da variável\n",
        "type(valor)"
      ]
    },
    {
      "cell_type": "code",
      "execution_count": null,
      "id": "ce8d1fbd",
      "metadata": {
        "id": "ce8d1fbd",
        "trusted": true
      },
      "outputs": [],
      "source": [
        "# o que acontece quando chamamos a variável?\n",
        "valor"
      ]
    },
    {
      "cell_type": "code",
      "execution_count": null,
      "id": "aa5f1a21-37a9-4c21-a0a7-1f2a955a66b3",
      "metadata": {
        "id": "aa5f1a21-37a9-4c21-a0a7-1f2a955a66b3"
      },
      "outputs": [],
      "source": []
    }
  ],
  "metadata": {
    "colab": {
      "provenance": []
    },
    "kernelspec": {
      "display_name": "Python 3",
      "language": "python",
      "name": "python3"
    },
    "language_info": {
      "codemirror_mode": {
        "name": "ipython",
        "version": 3
      },
      "file_extension": ".py",
      "mimetype": "text/x-python",
      "name": "python",
      "nbconvert_exporter": "python",
      "pygments_lexer": "ipython3",
      "version": "3.13.4"
    }
  },
  "nbformat": 4,
  "nbformat_minor": 5
}
